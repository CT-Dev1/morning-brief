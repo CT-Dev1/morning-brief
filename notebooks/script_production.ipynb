{
 "cells": [
  {
   "cell_type": "markdown",
   "id": "6478c761",
   "metadata": {},
   "source": [
    "In essence, imagine a set of APIs have just been used to gather raw data for the day on the user's calendar events, new email, stock prices of the user's portfolio, upcoming tasks they need to do, weather forecast for the day and headline news that just came out. All this data is formatted in a set of character strings (for each of the different sections) that will be stitched together to form the input for the language model to convert into a final briefing script. \n",
    "\n",
    "Let's test out some various ways of doing this using the preferred language model. This will \n",
    "\n",
    "Possibilities include:\n",
    "- SSSH formatting\n",
    "- Multiple scripts per section\n",
    "- One large script for the entire briefing"
   ]
  },
  {
   "cell_type": "markdown",
   "id": "e137bbcb",
   "metadata": {},
   "source": []
  }
 ],
 "metadata": {
  "language_info": {
   "name": "python"
  }
 },
 "nbformat": 4,
 "nbformat_minor": 5
}
