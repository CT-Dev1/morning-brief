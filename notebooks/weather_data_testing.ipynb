{
 "cells": [
  {
   "cell_type": "code",
   "execution_count": null,
   "id": "c8a63cf7",
   "metadata": {},
   "outputs": [],
   "source": [
    "import pandas as pd\n",
    "import requests\n",
    "import os\n",
    "from datetime import datetime\n",
    "from dotenv import load_dotenv\n",
    "import sys\n",
    "# hack to get around notebook being not in main directory\n",
    "sys.path.append(\"g:/My Drive/DS Projects/Morning_Brief\")\n",
    "from src.utils.config import API_KEY_OPEN_WEATHER\n"
   ]
  },
  {
   "cell_type": "code",
   "execution_count": null,
   "id": "61402d01",
   "metadata": {},
   "outputs": [
    {
     "name": "stdout",
     "output_type": "stream",
     "text": [
      "[{'time': '2025-04-23 12:00:00', 'temp': 9.69, 'wind_speed': 4.21, 'humidity': 87, 'weather_desc': 'light rain', 'cloudiness': 75, 'precipitation_prob': 1}, {'time': '2025-04-23 15:00:00', 'temp': 10.74, 'wind_speed': 5.4, 'humidity': 82, 'weather_desc': 'broken clouds', 'cloudiness': 78, 'precipitation_prob': 0}, {'time': '2025-04-23 18:00:00', 'temp': 11.45, 'wind_speed': 3.22, 'humidity': 79, 'weather_desc': 'light rain', 'cloudiness': 82, 'precipitation_prob': 0.2}, {'time': '2025-04-23 21:00:00', 'temp': 10.33, 'wind_speed': 1.82, 'humidity': 81, 'weather_desc': 'overcast clouds', 'cloudiness': 100, 'precipitation_prob': 0}, {'time': '2025-04-24 00:00:00', 'temp': 8.57, 'wind_speed': 1.61, 'humidity': 85, 'weather_desc': 'overcast clouds', 'cloudiness': 93, 'precipitation_prob': 0}, {'time': '2025-04-24 03:00:00', 'temp': 8.27, 'wind_speed': 2.1, 'humidity': 80, 'weather_desc': 'overcast clouds', 'cloudiness': 99, 'precipitation_prob': 0}, {'time': '2025-04-24 06:00:00', 'temp': 7.63, 'wind_speed': 2.07, 'humidity': 85, 'weather_desc': 'broken clouds', 'cloudiness': 63, 'precipitation_prob': 0}, {'time': '2025-04-24 09:00:00', 'temp': 12.6, 'wind_speed': 2.64, 'humidity': 65, 'weather_desc': 'few clouds', 'cloudiness': 18, 'precipitation_prob': 0}, {'time': '2025-04-24 12:00:00', 'temp': 16.12, 'wind_speed': 2.3, 'humidity': 48, 'weather_desc': 'scattered clouds', 'cloudiness': 43, 'precipitation_prob': 0}, {'time': '2025-04-24 15:00:00', 'temp': 16.61, 'wind_speed': 2.49, 'humidity': 45, 'weather_desc': 'broken clouds', 'cloudiness': 65, 'precipitation_prob': 0}]\n",
      "[{'time': '2025-04-23 12:00:00', 'temp': 9.71, 'wind_speed': 4.28, 'humidity': 87, 'weather_desc': 'light rain', 'cloudiness': 75, 'precipitation_prob': 1}, {'time': '2025-04-23 15:00:00', 'temp': 10.69, 'wind_speed': 5.46, 'humidity': 82, 'weather_desc': 'broken clouds', 'cloudiness': 78, 'precipitation_prob': 0}, {'time': '2025-04-23 18:00:00', 'temp': 11.38, 'wind_speed': 3.16, 'humidity': 79, 'weather_desc': 'light rain', 'cloudiness': 81, 'precipitation_prob': 0.2}, {'time': '2025-04-23 21:00:00', 'temp': 10.13, 'wind_speed': 1.75, 'humidity': 81, 'weather_desc': 'overcast clouds', 'cloudiness': 99, 'precipitation_prob': 0}, {'time': '2025-04-24 00:00:00', 'temp': 8.44, 'wind_speed': 1.73, 'humidity': 86, 'weather_desc': 'overcast clouds', 'cloudiness': 91, 'precipitation_prob': 0}, {'time': '2025-04-24 03:00:00', 'temp': 7.98, 'wind_speed': 2.14, 'humidity': 81, 'weather_desc': 'overcast clouds', 'cloudiness': 95, 'precipitation_prob': 0}, {'time': '2025-04-24 06:00:00', 'temp': 7.49, 'wind_speed': 2.18, 'humidity': 86, 'weather_desc': 'broken clouds', 'cloudiness': 61, 'precipitation_prob': 0}, {'time': '2025-04-24 09:00:00', 'temp': 12.5, 'wind_speed': 2.71, 'humidity': 65, 'weather_desc': 'few clouds', 'cloudiness': 18, 'precipitation_prob': 0}, {'time': '2025-04-24 12:00:00', 'temp': 15.99, 'wind_speed': 2.34, 'humidity': 48, 'weather_desc': 'scattered clouds', 'cloudiness': 42, 'precipitation_prob': 0}, {'time': '2025-04-24 15:00:00', 'temp': 16.36, 'wind_speed': 2.5, 'humidity': 45, 'weather_desc': 'broken clouds', 'cloudiness': 68, 'precipitation_prob': 0}]\n"
     ]
    }
   ],
   "source": [
    "from src.weather import *\n",
    "\n",
    "print(get_forecast_by_city(\"London\", 10))\n",
    "\n",
    "print(get_forecast_by_zip_code(\"e1\",\"gb\", 10))"
   ]
  },
  {
   "cell_type": "markdown",
   "id": "45b926de",
   "metadata": {},
   "source": [
    "We also want a function for the current weather rather than the forecast. That way, we can get the entire day's weather reported in the morning brief."
   ]
  },
  {
   "cell_type": "code",
   "execution_count": 9,
   "id": "66646439",
   "metadata": {},
   "outputs": [
    {
     "name": "stdout",
     "output_type": "stream",
     "text": [
      "2025-04-23 12:34:40\n",
      "{'time': '2025-04-23 12:34:40', 'temp': 10.2, 'wind_speed': 7.2, 'humidity': 85, 'weather_desc': 'broken clouds', 'cloudiness': 75, 'sunset_time': '2025-04-23 20:09:36'}\n"
     ]
    }
   ],
   "source": [
    "load_dotenv() # keep this deprecated method just in dev\n",
    "\n",
    "# Version 1: getting current weather of city\n",
    "# endpoint: http://api.openweathermap.org/data/2.5/weather?q={city}&appid={api_key}&units={units}\n",
    "\n",
    "units = 'metric'\n",
    "city = 'London'\n",
    "url = f\"http://api.openweathermap.org/data/2.5/weather?q={city}&appid={API_KEY_OPEN_WEATHER}&units={units}\"\n",
    "response = requests.get(url)\n",
    "data = response.json()\n",
    "current_weather = {}\n",
    "\n",
    "current_weather['time'] = datetime.fromtimestamp(data['dt']).strftime('%Y-%m-%d %H:%M:%S')\n",
    "\n",
    "print(current_weather['time'])\n",
    "current_weather['temp'] = data['main']['temp']\n",
    "current_weather['wind_speed'] = data['wind']['speed']\n",
    "current_weather['humidity'] = data['main']['humidity']\n",
    "current_weather['weather_desc'] = data['weather'][0]['description']\n",
    "current_weather['cloudiness'] = data['clouds']['all']\n",
    "current_weather['sunset_time'] = datetime.fromtimestamp(data['sys']['sunset']).strftime('%Y-%m-%d %H:%M:%S')\n",
    "\n",
    "print(current_weather)"
   ]
  },
  {
   "cell_type": "code",
   "execution_count": null,
   "id": "1a63f2c6",
   "metadata": {},
   "outputs": [
    {
     "name": "stdout",
     "output_type": "stream",
     "text": [
      "{'time': '2025-04-23 12:44:53', 'temp': 10.36, 'wind_speed': 7.2, 'humidity': 82, 'weather_desc': 'broken clouds', 'cloudiness': 75, 'sunset_time': '2025-04-23 20:09:36'}\n"
     ]
    }
   ],
   "source": [
    "# Function version of the above testing code\n",
    "def get_current_weather_city(city: str):\n",
    "    \"\"\" Get current weather for a city. Returns a dictionary of time, temperature, wind speed, humidity, weather description, cloudiness percentage and sunset time. \n",
    "    Args:\n",
    "        city (str): city for weather forecast\n",
    "    \"\"\"\n",
    "    # Note future extension to add in error handling for incorrect city names or error status code from API\n",
    "    units = 'metric'\n",
    "    url = f\"http://api.openweathermap.org/data/2.5/weather?q={city}&appid={API_KEY_OPEN_WEATHER}&units={units}\"\n",
    "    response = requests.get(url)\n",
    "    data = response.json()\n",
    "    current_weather = {}\n",
    "    current_weather['time'] = datetime.fromtimestamp(data['dt']).strftime('%Y-%m-%d %H:%M:%S') # convert from unix\n",
    "    current_weather['temp'] = data['main']['temp']\n",
    "    current_weather['wind_speed'] = data['wind']['speed']\n",
    "    current_weather['humidity'] = data['main']['humidity']\n",
    "    current_weather['weather_desc'] = data['weather'][0]['description']\n",
    "    current_weather['cloudiness'] = data['clouds']['all']\n",
    "    current_weather['sunset_time'] = datetime.fromtimestamp(data['sys']['sunset']).strftime('%Y-%m-%d %H:%M:%S') #convert from unix\n",
    "    return current_weather\n",
    "\n",
    "print(get_current_weather_city('London'))\n"
   ]
  },
  {
   "cell_type": "code",
   "execution_count": null,
   "id": "41798dbb",
   "metadata": {},
   "outputs": [
    {
     "name": "stdout",
     "output_type": "stream",
     "text": [
      "{'time': '2025-04-23 12:55:22', 'temp': 10.53, 'wind_speed': 7.2, 'humidity': 82, 'weather_desc': 'broken clouds', 'cloudiness': 75, 'sunset_time': '2025-04-23 20:09:36'}\n"
     ]
    }
   ],
   "source": [
    "load_dotenv()\n",
    "\n",
    "# Version 2: getting current weather of zipcode and country\n",
    "# endpoint: https://api.openweathermap.org/data/2.5/weather?zip={zip code},{country code}&appid={API key}\n",
    "\n",
    "def get_current_weather_zipcode(zip_code: str, country_code: str):\n",
    "    \"\"\" Get current weather for a zip code with country code. Returns a dictionary of time, temperature, wind speed, humidity, weather description, cloudiness percentage and sunset time. \n",
    "    Args:\n",
    "        zip_code (str): location zipcode (first part of uk zip, eg. e1 or nw1)\n",
    "        country_code (str): country code of zipcode\n",
    "    \"\"\"\n",
    "    # Note future extension to add in error handling for incorrect city names or error status code from API\n",
    "    units = 'metric'\n",
    "    url = f\"https://api.openweathermap.org/data/2.5/weather?zip={zip_code},{country_code}&appid={API_KEY_OPEN_WEATHER}&units={units}\"\n",
    "    response = requests.get(url)\n",
    "    data = response.json()\n",
    "    current_weather = {}\n",
    "    current_weather['time'] = datetime.fromtimestamp(data['dt']).strftime('%Y-%m-%d %H:%M:%S') # convert from unix\n",
    "    current_weather['temp'] = data['main']['temp']\n",
    "    current_weather['wind_speed'] = data['wind']['speed']\n",
    "    current_weather['humidity'] = data['main']['humidity']\n",
    "    current_weather['weather_desc'] = data['weather'][0]['description']\n",
    "    current_weather['cloudiness'] = data['clouds']['all']\n",
    "    current_weather['sunset_time'] = datetime.fromtimestamp(data['sys']['sunset']).strftime('%Y-%m-%d %H:%M:%S') #convert from unix\n",
    "    return current_weather\n",
    "\n",
    "print(get_current_weather_zipcode(\"wc1e\", 'gb'))"
   ]
  },
  {
   "cell_type": "markdown",
   "id": "137396c8",
   "metadata": {},
   "source": [
    "We liely still want historical weather because we want the morning brief to say how much the temperature changed from yesterday. To do this, we should probably use the historical open weather API."
   ]
  },
  {
   "cell_type": "code",
   "execution_count": null,
   "id": "da2ba046",
   "metadata": {},
   "outputs": [],
   "source": [
    "load_dotenv() # keep this deprecated method just in dev\n",
    "\n"
   ]
  }
 ],
 "metadata": {
  "kernelspec": {
   "display_name": "Python 3",
   "language": "python",
   "name": "python3"
  },
  "language_info": {
   "codemirror_mode": {
    "name": "ipython",
    "version": 3
   },
   "file_extension": ".py",
   "mimetype": "text/x-python",
   "name": "python",
   "nbconvert_exporter": "python",
   "pygments_lexer": "ipython3",
   "version": "3.13.3"
  }
 },
 "nbformat": 4,
 "nbformat_minor": 5
}
